{
 "cells": [
  {
   "attachments": {},
   "cell_type": "markdown",
   "id": "a4a29546",
   "metadata": {},
   "source": [
    "<p>Name:- Krishna Mundada<p>\n",
    "<p>Roll No:- 45 </p>\n",
    "<p>Batch:- E3</p>\n",
    "<p>Practical 2</p>\n",
    "<hr>\n",
    "<hr>"
   ]
  },
  {
   "attachments": {},
   "cell_type": "markdown",
   "id": "835de6a6",
   "metadata": {},
   "source": [
    "Write program for AdaGrad for objective function <br>1. x<sup>2</sup> <br>2. x<sup>2</sup> + y<sup>2</sup> \n",
    "<br><br>Plot the points in 2-D and 3-D gradient. <br>Show the execution steps on contours.\n",
    "1. Iterative ploting of graph\n",
    "2. Plot it meshgrid with contour\n",
    "3. Gradient Threshold = 10^-8\n",
    "4. Iteration = 50 (result obtained before 50 then stop).\n",
    "<hr>"
   ]
  },
  {
   "cell_type": "code",
   "execution_count": 7,
   "id": "211d0f12",
   "metadata": {},
   "outputs": [],
   "source": [
    "import numpy\n",
    "from numpy import asarray\n",
    "from numpy import arange\n",
    "from numpy.random import rand\n",
    "from matplotlib import pyplot\n",
    "from math import sqrt\n",
    "from numpy import asarray\n",
    "from numpy import arange\n",
    "from numpy.random import rand\n",
    "from numpy.random import seed\n",
    "from numpy import meshgrid\n",
    "from matplotlib import pyplot\n",
    "from mpl_toolkits.mplot3d import Axes3D"
   ]
  },
  {
   "cell_type": "markdown",
   "id": "7b9513aa",
   "metadata": {},
   "source": [
    "### AdaGrad for objective function:  x<sup>2<sup>"
   ]
  },
  {
   "cell_type": "code",
   "execution_count": 8,
   "id": "c3ed0388",
   "metadata": {
    "scrolled": true
   },
   "outputs": [
    {
     "name": "stdout",
     "output_type": "stream",
     "text": [
      ">0 f([-0.79977125]) = 0.63963\n",
      ">1 f([-0.6748366]) = 0.45540\n",
      ">2 f([-0.5815799]) = 0.33824\n",
      ">3 f([-0.50700636]) = 0.25706\n",
      ">4 f([-0.44517944]) = 0.19818\n",
      ">5 f([-0.39278777]) = 0.15428\n",
      ">6 f([-0.34774924]) = 0.12093\n",
      ">7 f([-0.30864461]) = 0.09526\n",
      ">8 f([-0.27444841]) = 0.07532\n",
      ">9 f([-0.24438643]) = 0.05972\n",
      ">10 f([-0.21785393]) = 0.04746\n",
      ">11 f([-0.19436567]) = 0.03778\n",
      ">12 f([-0.17352393]) = 0.03011\n",
      ">13 f([-0.15499705]) = 0.02402\n",
      ">14 f([-0.13850462]) = 0.01918\n",
      ">15 f([-0.12380691]) = 0.01533\n",
      ">16 f([-0.11069714]) = 0.01225\n",
      ">17 f([-0.09899562]) = 0.00980\n",
      ">18 f([-0.08854533]) = 0.00784\n",
      ">19 f([-0.07920841]) = 0.00627\n",
      ">20 f([-0.07086331]) = 0.00502\n",
      ">21 f([-0.06340262]) = 0.00402\n",
      ">22 f([-0.05673113]) = 0.00322\n",
      ">23 f([-0.0507643]) = 0.00258\n",
      ">24 f([-0.04542694]) = 0.00206\n",
      ">25 f([-0.04065212]) = 0.00165\n",
      ">26 f([-0.03638015]) = 0.00132\n",
      ">27 f([-0.0325578]) = 0.00106\n",
      ">28 f([-0.02913756]) = 0.00085\n",
      ">29 f([-0.02607697]) = 0.00068\n",
      ">30 f([-0.02333813]) = 0.00054\n",
      ">31 f([-0.02088713]) = 0.00044\n",
      ">32 f([-0.01869366]) = 0.00035\n",
      ">33 f([-0.01673064]) = 0.00028\n",
      ">34 f([-0.01497382]) = 0.00022\n",
      ">35 f([-0.01340153]) = 0.00018\n",
      ">36 f([-0.01199437]) = 0.00014\n",
      ">37 f([-0.01073498]) = 0.00012\n",
      ">38 f([-0.00960785]) = 0.00009\n",
      ">39 f([-0.00859907]) = 0.00007\n",
      ">40 f([-0.00769622]) = 0.00006\n",
      ">41 f([-0.00688817]) = 0.00005\n",
      ">42 f([-0.00616497]) = 0.00004\n",
      ">43 f([-0.00551769]) = 0.00003\n",
      ">44 f([-0.00493838]) = 0.00002\n",
      ">45 f([-0.0044199]) = 0.00002\n",
      ">46 f([-0.00395585]) = 0.00002\n",
      ">47 f([-0.00354052]) = 0.00001\n",
      ">48 f([-0.0031688]) = 0.00001\n",
      ">49 f([-0.00283611]) = 0.00001\n",
      ">0 f([-0.00253834]) = 0.00001\n",
      ">1 f([-0.00227184]) = 0.00001\n",
      ">2 f([-0.00203332]) = 0.00000\n"
     ]
    }
   ],
   "source": [
    "# objective function\n",
    "def objective(x):\n",
    "    return x**2.0\n",
    "\n",
    "# derivative of objective function\n",
    "def derivative(x):\n",
    "    return x * 2.0\n",
    "\n",
    "# gradient descent algorithm\n",
    "def gradient_descent(objective, derivative, bounds, n_iter, step_size):\n",
    "    # track all solutions\n",
    "    stop = 1.0\n",
    "    history = 0\n",
    "    epil = pow(10, -8)\n",
    "    solutions, scores = list(), list()\n",
    "    # generate an initial point\n",
    "    solution = bounds[:, 0] + rand(len(bounds)) * (bounds[:, 1] - bounds[:, 0])\n",
    "    # run the gradient descent\n",
    "    while(stop != 0.0):\n",
    "        for i in range(n_iter):\n",
    "            # calculate gradient\n",
    "            #print(i)\n",
    "            gradient = derivative(solution)\n",
    "            # history \n",
    "            history = history + (gradient**2)\n",
    "            # take a step\n",
    "            solution = solution - step_size/(numpy.sqrt(history+epil)) * gradient\n",
    "            # evaluate candidate point\n",
    "            solution_eval = objective(solution)\n",
    "            #print(solution_eval)\n",
    "            stop = numpy.round(solution_eval, 5)\n",
    "            stop = float(stop)\n",
    "            #print(stop)\n",
    "            # store solution\n",
    "            solutions.append(solution)\n",
    "            scores.append(solution_eval)\n",
    "            # report progress\n",
    "            print('>%d f(%s) = %.5f' % (i, solution, solution_eval))\n",
    "            if stop == 0.0:\n",
    "                break\n",
    "    return [solutions, scores]\n",
    "\n",
    "# define range for input\n",
    "bounds = asarray([[-1.0, 1.0]])\n",
    "# define the total iterations\n",
    "n_iter = 50\n",
    "# define the step size\n",
    "step_size = 0.2\n",
    "# perform the gradient descent search\n",
    "solutions, scores = gradient_descent(objective, derivative, bounds, n_iter, step_size)\n",
    "#print(solutions, scores)"
   ]
  },
  {
   "cell_type": "code",
   "execution_count": 9,
   "id": "e63c16e9",
   "metadata": {},
   "outputs": [
    {
     "data": {
      "image/png": "[encoded data removed]",
      "text/plain": [
       "<Figure size 640x480 with 1 Axes>"
      ]
     },
     "metadata": {},
     "output_type": "display_data"
    }
   ],
   "source": [
    "# sample input range uniformly at 0.1 increments\n",
    "inputs = arange(bounds[0,0], bounds[0,1]+0.1, 0.1)\n",
    "# compute targets\n",
    "results = objective(inputs)\n",
    "# create a line plot of input vs result\n",
    "pyplot.plot(inputs, results)\n",
    "# plot the solutions found\n",
    "pyplot.plot(solutions, scores, '.-', color='red')\n",
    "# show the plot\n",
    "pyplot.show()"
   ]
  },
  {
   "cell_type": "code",
   "execution_count": 10,
   "id": "7898ea56",
   "metadata": {},
   "outputs": [],
   "source": [
    "w = solutions.pop()\n",
    "w1 = scores.pop()\n",
    "#print(len(solutions))"
   ]
  },
  {
   "cell_type": "code",
   "execution_count": null,
   "id": "e11e8a68",
   "metadata": {
    "scrolled": true
   },
   "outputs": [],
   "source": [
    "a = list()\n",
    "b = list()\n",
    "c = list()\n",
    "d = list()\n",
    "\n",
    "for i in range(len(results)):\n",
    "    print(i)\n",
    "    a.append(inputs[i])\n",
    "    b.append(results[i])\n",
    "    c.append(solutions[i])\n",
    "    d.append(scores[i])\n",
    "    pyplot.plot(a, b)\n",
    "    pyplot.plot(c, d, '.-', color='green')\n",
    "    pyplot.show()"
   ]
  },
  {
   "cell_type": "markdown",
   "id": "3fc9e979",
   "metadata": {},
   "source": [
    "### AdaGrad for objective function:  x<sup>2</sup> + y<sup>2</sup>"
   ]
  },
  {
   "cell_type": "code",
   "execution_count": 12,
   "id": "a4caf483",
   "metadata": {},
   "outputs": [
    {
     "name": "stdout",
     "output_type": "stream",
     "text": [
      ">0 f([-0.06595599  0.34064899]) = 0.12039\n",
      ">1 f([-0.02902286  0.27948766]) = 0.07896\n",
      ">2 f([-0.0129815   0.23463749]) = 0.05522\n",
      ">3 f([-0.00582483  0.1993997 ]) = 0.03979\n",
      ">4 f([-0.00261527  0.17071256]) = 0.02915\n",
      ">5 f([-0.00117437  0.14686138]) = 0.02157\n",
      ">6 f([-0.00052736  0.12676134]) = 0.01607\n",
      ">7 f([-0.00023681  0.10966762]) = 0.01203\n",
      ">8 f([-0.00010634  0.09503809]) = 0.00903\n",
      ">9 f([-4.77542704e-05  8.24607972e-02]) = 0.00680\n",
      ">10 f([-2.14444463e-05  7.16123835e-02]) = 0.00513\n",
      ">11 f([-9.62980437e-06  6.22327049e-02]) = 0.00387\n",
      ">12 f([-4.32434258e-06  5.41085063e-02]) = 0.00293\n",
      ">13 f([-1.94188148e-06  4.70624414e-02]) = 0.00221\n",
      ">14 f([-8.72017797e-07  4.09453989e-02]) = 0.00168\n",
      ">15 f([-3.91586740e-07  3.56309531e-02]) = 0.00127\n",
      ">16 f([-1.75845235e-07  3.10112252e-02]) = 0.00096\n",
      ">17 f([-7.89647442e-08  2.69937139e-02]) = 0.00073\n",
      ">18 f([-3.54597657e-08  2.34988084e-02]) = 0.00055\n",
      ">19 f([-1.59234984e-08  2.04577993e-02]) = 0.00042\n",
      ">20 f([-7.15057749e-09  1.78112581e-02]) = 0.00032\n",
      ">21 f([-3.21102543e-09  1.55077005e-02]) = 0.00024\n",
      ">22 f([-1.44193729e-09  1.35024688e-02]) = 0.00018\n",
      ">23 f([-6.47513760e-10  1.17567908e-02]) = 0.00014\n",
      ">24 f([-2.90771361e-10  1.02369798e-02]) = 0.00010\n",
      ">25 f([-1.30573263e-10  8.91375193e-03]) = 0.00008\n",
      ">26 f([-5.86349941e-11  7.76164047e-03]) = 0.00006\n",
      ">27 f([-2.63305247e-11  6.75849105e-03]) = 0.00005\n",
      ">28 f([-1.18239380e-11  5.88502652e-03]) = 0.00003\n",
      ">29 f([-5.30963626e-12  5.12447017e-03]) = 0.00003\n",
      ">30 f([-2.38433568e-12  4.46221948e-03]) = 0.00002\n",
      ">31 f([-1.07070548e-12  3.88556303e-03]) = 0.00002\n",
      ">32 f([-4.80809073e-13  3.38343471e-03]) = 0.00001\n",
      ">33 f([-2.15911255e-13  2.94620023e-03]) = 0.00001\n",
      ">34 f([-9.69567190e-14  2.56547145e-03]) = 0.00001\n",
      ">35 f([-4.35392094e-14  2.23394494e-03]) = 0.00000\n"
     ]
    }
   ],
   "source": [
    "# objective function\n",
    "def objective(x, y):\n",
    "    return x**2.0 + y**2.0\n",
    "\n",
    "# derivative of objective function\n",
    "def derivative(x, y):\n",
    "    return asarray([x * 2.0, y * 2.0])\n",
    "\n",
    "t = 0\n",
    "\n",
    "# gradient descent algorithm with adagrad\n",
    "def adagrad(objective, derivative, bounds, n_iter, step_size):\n",
    "    stop = float(1)\n",
    "    # track all solutions\n",
    "    solutions = list()\n",
    "    # generate an initial point\n",
    "    solution = bounds[:, 0] + rand(len(bounds)) * (bounds[:, 1] - bounds[:, 0])\n",
    "    # list of the sum square gradients for each variable\n",
    "    sq_grad_sums = [0.0 for _ in range(bounds.shape[0])]\n",
    "    # run the gradient descent\n",
    "    while (stop != 0.0):\n",
    "        for it in range(n_iter):\n",
    "            # calculate gradient\n",
    "            gradient = derivative(solution[0], solution[1])\n",
    "            # update the sum of the squared partial derivatives\n",
    "            for i in range(gradient.shape[0]):\n",
    "                sq_grad_sums[i] += gradient[i]**2.0\n",
    "            # build solution\n",
    "            new_solution = list()\n",
    "            for i in range(solution.shape[0]):\n",
    "                # calculate the learning rate for this variable\n",
    "                alpha = step_size / (1e-8 + sqrt(sq_grad_sums[i]))\n",
    "                # calculate the new position in this variable\n",
    "                value = solution[i] - alpha * gradient[i]\n",
    "                new_solution.append(value)\n",
    "            # store the new solution\n",
    "            solution = asarray(new_solution)\n",
    "            solutions.append(solution)\n",
    "            # evaluate candidate point\n",
    "            solution_eval = objective(solution[0], solution[1])\n",
    "            # report progress\n",
    "            print('>%d f(%s) = %.5f' % (it, solution, solution_eval))\n",
    "            stop = numpy.round(solution_eval, 5)\n",
    "            stop = float(stop)\n",
    "            global t\n",
    "            t = i\n",
    "            if stop == 0.0:\n",
    "                break\n",
    "    return solutions\n",
    "\n",
    "# seed the pseudo random number generator\n",
    "seed(1)\n",
    "# define range for input\n",
    "bounds = asarray([[-1.0, 1.0], [-1.0, 1.0]])\n",
    "# define the total iterations\n",
    "n_iter = 50\n",
    "# define the step size\n",
    "step_size = 0.1\n",
    "# perform the gradient descent search\n",
    "solutions = adagrad(objective, derivative, bounds, n_iter, step_size)"
   ]
  },
  {
   "cell_type": "code",
   "execution_count": 15,
   "id": "76cb76e8",
   "metadata": {},
   "outputs": [],
   "source": [
    "xaxis = arange(bounds[0,0], bounds[0,1], 0.1)\n",
    "yaxis = arange(bounds[1,0], bounds[1,1], 0.1)\n",
    "x, y = meshgrid(xaxis, yaxis)\n",
    "pyplot.contourf(x, y, results, levels=50, cmap='jet')\n",
    "solutions = asarray(solutions)\n",
    "solutions = np.array(solutions)\n",
    "new = np.empty(shape=(50, 2), dtype='object')\n",
    "for i in range(len(solutions)):\n",
    "    print(i)\n",
    "    new[i][0] = solutions[i][0]\n",
    "    new[i][1] = solutions[i][1]\n",
    "    pyplot.contourf(x, y, results, levels=50, cmap='jet')\n",
    "    pyplot.plot(new[:,0], new[:,1], '.-', color='w')\n",
    "    pyplot.show()"
   ]
  },
  {
   "cell_type": "code",
   "execution_count": 16,
   "id": "c5d7544e",
   "metadata": {},
   "outputs": [
    {
     "data": {
      "image/png": "[encoded data removed]",
      "text/plain": [
       "<Figure size 640x480 with 1 Axes>"
      ]
     },
     "metadata": {},
     "output_type": "display_data"
    }
   ],
   "source": [
    "# sample input range uniformly at 0.1 increments\n",
    "xaxis = arange(bounds[0,0], bounds[0,1], 0.1)\n",
    "yaxis = arange(bounds[1,0], bounds[1,1], 0.1)\n",
    "# create a mesh from the axis\n",
    "x, y = meshgrid(xaxis, yaxis)\n",
    "# compute targets\n",
    "results = objective(x, y)\n",
    "# create a filled contour plot with 50 levels and jet color scheme\n",
    "pyplot.contourf(x, y, results, levels=50, cmap='jet')\n",
    "# plot the sample as black circles\n",
    "solutions = asarray(solutions)\n",
    "pyplot.plot(solutions[:, 0], solutions[:, 1], '.-', color='w')\n",
    "# show the plot\n",
    "pyplot.show()"
   ]
  },
  {
   "cell_type": "code",
   "execution_count": null,
   "id": "a9ef0c94",
   "metadata": {},
   "outputs": [],
   "source": []
  }
 ],
 "metadata": {
  "kernelspec": {
   "display_name": "GPUEnv",
   "language": "python",
   "name": "gpuenv"
  },
  "language_info": {
   "codemirror_mode": {
    "name": "ipython",
    "version": 3
   },
   "file_extension": ".py",
   "mimetype": "text/x-python",
   "name": "python",
   "nbconvert_exporter": "python",
   "pygments_lexer": "ipython3",
   "version": "3.9.5"
  }
 },
 "nbformat": 4,
 "nbformat_minor": 5
}
