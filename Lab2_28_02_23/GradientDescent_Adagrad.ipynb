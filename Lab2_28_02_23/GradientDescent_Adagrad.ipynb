{
  "nbformat": 4,
  "nbformat_minor": 0,
  "metadata": {
    "colab": {
      "provenance": []
    },
    "kernelspec": {
      "name": "python3",
      "display_name": "Python 3"
    },
    "language_info": {
      "name": "python"
    }
  },
  "cells": [
    {
      "cell_type": "markdown",
      "source": [
        "Vanila Gradient Descent"
      ],
      "metadata": {
        "id": "0PVXXWHx6GUS"
      }
    },
    {
      "cell_type": "code",
      "source": [
        "# example of plotting a gradient descent search on a one-dimensional function\n",
        "from numpy import asarray\n",
        "from numpy import arange\n",
        "from numpy.random import rand\n",
        "from matplotlib import pyplot\n",
        "\n",
        "# objective function\n",
        "def objective(x):\n",
        "\treturn x**2.0\n",
        "\n",
        "# derivative of objective function\n",
        "def derivative(x):\n",
        "\treturn x * 2.0\n",
        "\n",
        "# gradient descent algorithm\n",
        "def gradient_descent(objective, derivative, bounds, n_iter, step_size):\n",
        "\t# track all solutions\n",
        "\tsolutions, scores = list(), list()\n",
        "\t# generate an initial point\n",
        "\tsolution = bounds[:, 0] + rand(len(bounds)) * (bounds[:, 1] - bounds[:, 0])\n",
        "\t# run the gradient descent\n",
        "\tfor i in range(n_iter):\n",
        "\t\t# calculate gradient\n",
        "\t\tgradient = derivative(solution)\n",
        "\t\t# take a step\n",
        "\t\tsolution = solution - step_size * gradient\n",
        "\t\t# evaluate candidate point\n",
        "\t\tsolution_eval = objective(solution)\n",
        "\t\t# store solution\n",
        "\t\tsolutions.append(solution)\n",
        "\t\tscores.append(solution_eval)\n",
        "\t\t# report progress\n",
        "\t\tprint('>%d f(%s) = %.5f' % (i, solution, solution_eval))\n",
        "\treturn [solutions, scores]\n",
        "\n",
        "# define range for input\n",
        "bounds = asarray([[-1.0, 1.0]])\n",
        "# define the total iterations\n",
        "n_iter = 30\n",
        "# define the step size\n",
        "step_size = 0.1\n",
        "# perform the gradient descent search\n",
        "solutions, scores = gradient_descent(objective, derivative, bounds, n_iter, step_size)\n",
        "# sample input range uniformly at 0.1 increments\n",
        "inputs = arange(bounds[0,0], bounds[0,1]+0.1, 0.1)\n",
        "# compute targets\n",
        "results = objective(inputs)\n",
        "# create a line plot of input vs result\n",
        "pyplot.plot(inputs, results)\n",
        "# plot the solutions found\n",
        "pyplot.plot(solutions, scores, '.-', color='red')\n",
        "# show the plot\n",
        "pyplot.show()"
      ],
      