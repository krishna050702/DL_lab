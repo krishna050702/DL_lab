{
  "cells": [
    {
      "attachments": {},
      "cell_type": "markdown",
      "metadata": {
        "id": "vbIpYQtRszVT"
      },
      "source": [
        "<p>Name:- Krishna Mundada<p>\n",
        "<p>Roll No:- 45 </p>\n",
        "<p>Batch:- E3</p>\n",
        "<hr>\n",
        "<hr>\n",
        "<p> Write a program to implement\n",
        "<ol>\n",
        "<li>Vanilla gradient descent. </li>\n",
        "<li>Momentum based gradient descent.</li>\n",
        "</ol>\n",
        "Consider two points - (2, 0.3), (6, 0.8) approximate these two points by using above mention algorithm, also plot approx. curve.<br> \n",
        "Learning Rate (lr) = 0.5</p>\n",
        "<hr>"
      ]
    },
    {
      "attachments": {},
      "cell_type": "markdown",
      "metadata": {
        "id": "-EjFVhngwY86"
      },
      "source": [
        "<h4>Vanilla Gradient Decsent</h4>"
      ]
    },
    {
      "cell_type": "code",
      "execution_count": 11,
      "metadata": {
        "id": "CjXwnKKvwlPk"
      },
      "outputs": [],
      "source": [
        "# example of plotting a gradient descent search on a one-dimensional function\n",
        "from numpy import asarray\n",
        "from numpy import arange\n",
        "from numpy.random import rand\n",
        "from matplotlib import pyplot"
      ]
    },
    {
      "cell_type": "code",
      "execution_count": 12,
      "metadata": {
        "id": "25f8Yjz0wtbp"
      },
      "outputs": [],
      "source": [
        "# objective function\n",
        "def objective(x):\n",
        "  return x**2.0"
      ]
    },
    {
      "cell_type": "code",
      "execution_count": 13,
      "metadata": {
        "id": "k99UMGffwwPF"
      },
      "outputs": [],
      "source": [
        "# derivative of objective function\n",
        "def derivative(x):\n",
        "\treturn x * 2.0"
      ]
    },
    {
      "cell_type": "code",
      "execution_count": 14,
      "metadata": {
        "id": "434GxJXpwzH5"
      },
      "outputs": [],
      "source": [
        "# gradient descent algorithm\n",
        "def gradient_descent(objective, derivative, bounds, n_iter, step_size):\n",
        "\t# track all solutions\n",
        "\tsolutions, scores = list(), list()\n",
        "\t# generate an initial point\n",
        "\tsolution = bounds[:, 0] + rand(len(bounds)) * (bounds[:, 1] - bounds[:, 0])\n",
        "\t# run the gradient descent\n",
        "\tfor i in range(n_iter):\n",
        "\t\t# calculate gradient\n",
        "\t\tgradient = derivative(solution)\n",
        "\t\t# take a step\n",
        "\t\tsolution = solution - step_size * gradient\n",
        "\t\t# evaluate candidate point\n",
        "\t\tsolution_eval = objective(solution)\n",
        "\t\t# store solution\n",
        "\t\tsolutions.append(solution)\n",
        "\t\tscores.append(solution_eval)\n",
        "\t\t# report progress\n",
        "\t\tprint('>%d f(%s) = %.5f' % (i, solution, solution_eval))\n",
        "\treturn [solutions, scores]"
      ]
    },
    {
      "cell_type": "code",
      "execution_count": 15,
      "metadata": {
        "colab": {
          "base_uri": "https://localhost:8080/",
          "height": 786
        },
        "id": "qI8_WhuQw14A",
        "outputId": "654ffbfc-a297-4f99-9a8c-470851c40fe0"
      },
      "outputs": [
        {
          "name": "stdout",
          "output_type": "stream",
          "text": [
            ">0 f([0.75629498]) = 0.57198\n",
            ">1 f([0.60503598]) = 0.36607\n",
            ">2 f([0.48402878]) = 0.23428\n",
            ">3 f([0.38722303]) = 0.14994\n",
            ">4 f([0.30977842]) = 0.09596\n",
            ">5 f([0.24782274]) = 0.06142\n",
            ">6 f([0.19825819]) = 0.03931\n",
            ">7 f([0.15860655]) = 0.02516\n",
            ">8 f([0.12688524]) = 0.01610\n",
            ">9 f([0.10150819]) = 0.01030\n",
            ">10 f([0.08120655]) = 0.00659\n",
            ">11 f([0.06496524]) = 0.00422\n",
            ">12 f([0.0519722]) = 0.00270\n",
            ">13 f([0.04157776]) = 0.00173\n",
            ">14 f([0.0332622]) = 0.00111\n",
            ">15 f([0.02660976]) = 0.00071\n",
            ">16 f([0.02128781]) = 0.00045\n",
            ">17 f([0.01703025]) = 0.00029\n",
            ">18 f([0.0136242]) = 0.00019\n",
            ">19 f([0.01089936]) = 0.00012\n",
            ">20 f([0.00871949]) = 0.00008\n",
            ">21 f([0.00697559]) = 0.00005\n",
            ">22 f([0.00558047]) = 0.00003\n",
            ">23 f([0.00446438]) = 0.00002\n",
            ">24 f([0.0035715]) = 0.00001\n",
            ">25 f([0.0028572]) = 0.00001\n",
            ">26 f([0.00228576]) = 0.00001\n",
            ">27 f([0.00182861]) = 0.00000\n",
            ">28 f([0.00146289]) = 0.00000\n",
            ">29 f([0.00117031]) = 0.00000\n"
          ]
        },
        {
          "data": {
            "image/png": "[encoded data removed]",
            "text/plain": [
              "<Figure size 432x288 with 1 Axes>"
            ]
          },
          "metadata": {
            "needs_background": "light"
          },
          "output_type": "display_data"
        }
      ],
      "source": [
        "# define range for input\n",
        "bounds = asarray([[-1.0, 1.0]])\n",
        "# define the total iterations\n",
        "n_iter = 30\n",
        "# define the step size\n",
        "step_size = 0.1\n",
        "# perform the gradient descent search\n",
        "solutions, scores = gradient_descent(objective, derivative, bounds, n_iter, step_size)\n",
        "# sample input range uniformly at 0.1 increments\n",
        "inputs = arange(bounds[0,0], bounds[0,1]+0.1, 0.1)\n",
        "# compute targets\n",
        "results = objective(inputs)\n",
        "# create a line plot of input vs result\n",
        "pyplot.plot(inputs, results)\n",
        "# plot the solutions found\n",
        "pyplot.plot(solutions, scores, '.-', color='red')\n",
        "# show the plot\n",
        "pyplot.show()"
      ]
    },
    {
      "cell_type": "markdown",
      "metadata": {
        "id": "lFM-RxFH1B2C"
      },
      "source": [
        "## Momentum based gradient descent"
      ]
    },
    {
      "cell_type": "code",
      "execution_count": 1,
      "metadata": {
        "id": "J2hXGnVRzqD7"
      },
      "outputs": [],
      "source": [
        "# example of plotting gradient descent with momentum for a one-dimensional function\n",
        "from numpy import asarray\n",
        "from numpy import arange\n",
        "from numpy.random import rand\n",
        "from numpy.random import seed\n",
        "from matplotlib import pyplot"
      ]
    },
    {
      "cell_type": "code",
      "execution_count": 2,
      "metadata": {
        "id": "bi_6nO75qLCh"
      },
      "outputs": [],
      "source": [
        "# objective function\n",
        "def objective(x):\n",
        "\treturn x**2.0"
      ]
    },
    {
      "cell_type": "code",
      "execution_count": 3,
      "metadata": {
        "id": "h1qpaaL-qPP_"
      },
      "outputs": [],
      "source": [
        "# derivative of objective function\n",
        "def derivative(x):\n",
        "\treturn x * 2.0"
      ]
    },
    {
      "cell_type": "code",
      "execution_count": 4,
      "metadata": {
        "id": "RGydgkAnqRoa"
      },
      "outputs": [],
      "source": [
        "# gradient descent algorithm with momentum\n",
        "def gradient_descent(objective, derivative, bounds, n_iter, step_size, momentum):\n",
        "\t# track all solutions\n",
        "\tsolutions, scores = list(), list()\n",
        "\t# generate an initial point\n",
        "\tsolution = bounds[:, 0] + rand(len(bounds)) * (bounds[:, 1] - bounds[:, 0])\n",
        "\t# keep track of the change\n",
        "\tchange = 0.0\n",
        "\t# run the gradient descent\n",
        "\tfor i in range(n_iter):\n",
        "\t\t# calculate gradient\n",
        "\t\tgradient = derivative(solution)\n",
        "\t\t# calculate update\n",
        "\t\tnew_change = step_size * gradient + momentum * change\n",
        "\t\t# take a step\n",
        "\t\tsolution = solution - new_change\n",
        "\t\t# save the change\n",
        "\t\tchange = new_change\n",
        "\t\t# evaluate candidate point\n",
        "\t\tsolution_eval = objective(solution)\n",
        "\t\t# store solution\n",
        "\t\tsolutions.append(solution)\n",
        "\t\tscores.append(solution_eval)\n",
        "\t\t# report progress\n",
        "\t\tprint('>%d f(%s) = %.5f' % (i, solution, solution_eval))\n",
        "\treturn [solutions, scores]"
      ]
    },
    {
      "cell_type": "code",
      "execution_count": 5,
      "metadata": {
        "colab": {
          "base_uri": "https://localhost:8080/",
          "height": 786
        },
        "id": "VR3ZloCxqcYw",
        "outputId": "0b6a53b3-cbdc-4445-d0d5-601c2a129f2c"
      },
      "outputs": [
        {
          "name": "stdout",
          "output_type": "stream",
          "text": [
            ">0 f([0.74724774]) = 0.55838\n",
            ">1 f([0.54175461]) = 0.29350\n",
            ">2 f([0.37175575]) = 0.13820\n",
            ">3 f([0.24640494]) = 0.06072\n",
            ">4 f([0.15951871]) = 0.02545\n",
            ">5 f([0.1015491]) = 0.01031\n",
            ">6 f([0.0638484]) = 0.00408\n",
            ">7 f([0.03976851]) = 0.00158\n",
            ">8 f([0.02459084]) = 0.00060\n",
            ">9 f([0.01511937]) = 0.00023\n",
            ">10 f([0.00925406]) = 0.00009\n",
            ">11 f([0.00564365]) = 0.00003\n",
            ">12 f([0.0034318]) = 0.00001\n",
            ">13 f([0.00208188]) = 0.00000\n",
            ">14 f([0.00126053]) = 0.00000\n",
            ">15 f([0.00076202]) = 0.00000\n",
            ">16 f([0.00046006]) = 0.00000\n",
            ">17 f([0.00027746]) = 0.00000\n",
            ">18 f([0.00016719]) = 0.00000\n",
            ">19 f([0.00010067]) = 0.00000\n",
            ">20 f([6.05804744e-05]) = 0.00000\n",
            ">21 f([3.64373635e-05]) = 0.00000\n",
            ">22 f([2.19069576e-05]) = 0.00000\n",
            ">23 f([1.31664443e-05]) = 0.00000\n",
            ">24 f([7.91100141e-06]) = 0.00000\n",
            ">25 f([4.75216828e-06]) = 0.00000\n",
            ">26 f([2.85408468e-06]) = 0.00000\n",
            ">27 f([1.71384267e-06]) = 0.00000\n",
            ">28 f([1.02900153e-06]) = 0.00000\n",
            ">29 f([6.17748881e-07]) = 0.00000\n"
          ]
        },
        {
          "data": {
            "image/png": "[encoded data removed]",
            "text/plain": [
              "<Figure size 432x288 with 1 Axes>"
            ]
          },
          "metadata": {
            "needs_background": "light"
          },
          "output_type": "display_data"
        }
      ],
      "source": [
        "# seed the pseudo random number generator\n",
        "seed(4)\n",
        "# define range for input\n",
        "bounds = asarray([[-1.0, 1.0]])\n",
        "# define the total iterations\n",
        "n_iter = 30\n",
        "# define the step size\n",
        "step_size = 0.1\n",
        "# define momentum\n",
        "momentum = 0.3\n",
        "# perform the gradient descent search with momentum\n",
        "solutions, scores = gradient_descent(objective, derivative, bounds, n_iter, step_size, momentum)\n",
        "# sample input range uniformly at 0.1 increments\n",
        "inputs = arange(bounds[0,0], bounds[0,1]+0.1, 0.1)\n",
        "# compute targets\n",
        "results = objective(inputs)\n",
        "# create a line plot of input vs result\n",
        "pyplot.plot(inputs, results)\n",
        "# plot the solutions found\n",
        "pyplot.plot(solutions, scores, '.-', color='red')\n",
        "# show the plot\n",
        "pyplot.show()"
      ]
    },
    {
      "cell_type": "code",
      "execution_count": null,
      "metadata": {
        "id": "LnvHZK8-qeYg"
      },
      "outputs": [],
      "source": []
    }
  ],
  "metadata": {
    "colab": {
      "collapsed_sections": [
        "HCZctAAElLXf",
        "hwpPB7_ZlUBC"
      ],
      "provenance": []
    },
    "kernelspec": {
      "display_name": "Python 3",
      "language": "python",
      "name": "python3"
    },
    "language_info": {
      "name": "python",
      "version": "3.7.0"
    },
    "vscode": {
      "interpreter": {
        "hash": "274151d698111ee982765b9db49955f5a5cfe749d3ba1338329426353813ea05"
      }
    }
  },
  "nbformat": 4,
  "nbformat_minor": 0
}
