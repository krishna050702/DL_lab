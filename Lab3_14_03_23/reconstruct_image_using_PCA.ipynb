{
 "cells": [
  {
   "attachments": {},
   "cell_type": "markdown",
   "metadata": {},
   "source": [
    "<p>Name:- Krishna Mundada<p>\n",
    "<p>Roll No:- 45 </p>\n",
    "<p>Batch:- E3</p>\n",
    "<p>Practical 3</p>\n",
    "<p>Topic:- Resconstructing image using PCA </p>\n",
    "<hr>\n",
    "<hr>\n",
    "\n",
    "```PCA:- Is a technique to reduce the dimensionality of the input matrix while retaining as much as information as possible.```\n",
    "<hr>\n"
   ]
  },
  {
   "cell_type": "code",
   "execution_count": 1,
   "metadata": {},
   "outputs": [],
   "source": [
    "import cv2\n",
    "import numpy as np\n",
    "import os"
   ]
  },
  {
   "cell_type": "code",
   "execution_count": 2,
   "metadata": {},
   "outputs": [],
   "source": [
    "def get_image_size(filename):\n",
    "    size=os.stat(filename).st_size\n",
    "    return size/1024.0"
   ]
  },
  {
   "cell_type": "code",
   "execution_count": 3,
   "metadata": {},
   "outputs": [],
   "source": [
    "imgpath = \"krishna1.jpg\"\n",
    "# imgpath = \"4.2.07.tiff\"\n",
    "img = cv2.imread(imgpath, 0)\n",
    "\n",
    "# Reshaping the image to square matrix\n",
    "if img.shape[0] != img.shape[1]:\n",
    "    min_side = min(img.shape[:2])\n",
    "    img = img[\n",
    "        (img.shape[0]-min_side)//2:(img.shape[0]+min_side)//2,\n",
    "        (img.shape[1]-min_side)//2:(img.shape[1]+min_side)//2\n",
    "    ]\n",
    "\n",
    "M = np.mean(img.T, axis=1)\n",
    "C = img - M\n",
    "V = np.cov(C.T)\n",
    "values, vectors = np.linalg.eig(V)\n",
    "\n",
    "p = np.size(vectors, axis =1)\n",
    "\n",
    "idx = np.argsort(values)\n",
    "idx = idx[::-1]\n",
    "vectors = vectors[:,idx]\n",
    "values = values[idx]\n",
    "\n",
    "num_PC = 200\n",
    "\n",
    "if num_PC <p or num_PC >0:\n",
    "    vectors = vectors[:, range(num_PC)]\n",
    "\n",
    "score = np.dot(vectors.T, C)\n",
    "constructed_img = np.dot(vectors, score) + M\n",
    "constructed_img = np.uint8(np.absolute(constructed_img))\n",
    "\n",
    "cv2.imshow('Original Image', img)\n",
    "\n",
    "cv2.imshow(\"Reconstructed Image\", constructed_img)\n",
    "cv2.waitKey(0)\n",
    "cv2.destroyAllWindows()"
   ]
  },
  {
   "cell_type": "code",
   "execution_count": 4,
   "metadata": {},
   "outputs": [
    {
     "name": "stdout",
     "output_type": "stream",
     "text": [
      "The size of original image is 445.25\n",
      "The size of reconstructed image is 68.67\n"
     ]
    }
   ],
   "source": [
    "filename=\"krishna1.jpg\"\n",
    "size_kb=get_image_size(filename)\n",
    "print(f\"The size of original image is {size_kb:.2f}\")\n",
    "filename=\"constructed_img.jpg\"\n",
    "size_kb=get_image_size(filename)\n",
    "print(f\"The size of reconstructed image is {size_kb:.2f}\")"
   ]
  },
  {
   "attachments": {},
   "cell_type": "markdown",
   "metadata": {},
   "source": [
    "Explanation:- \n",
    "First, we read an input image using OpenCV and convert it to grayscale. Then, we reshape the image to a square matrix If it is not in the square shape already.\n",
    "\n",
    "Next, we calculate the mean column-wise from the reshaped input image and subtract the resulting mean matrix from the original matrix. This results in the centered matrix C.\n",
    "\n",
    "After that, we calculate the covariance matrix V of the centered matrix C with its transpose matrix.\n",
    "\n",
    "Then we compute the eigenvalues and eigenvectors of the covariance matrix V. The eigenvectors represent the principal components (PCs) while the eigenvalues represent the amount of variance each PC holds.\n",
    "\n",
    "We sort the eigenvalues and eigenvectors in descending order of values and select specific number of PCs which can be used for reconstruction.\n",
    "\n",
    "Then we multiply the centered matrix with selected PC's to obtain score, which can be used for reconstruction. And add the mean matrix M to the resultant reconstruction to obtain final reconstructed image."
   ]
  },
  {
   "cell_type": "code",
   "execution_count": null,
   "metadata": {},
   "outputs": [],
   "source": []
  }
 ],
 "metadata": {
  "kernelspec": {
   "display_name": "GPUEnv",
   "language": "python",
   "name": "gpuenv"
  },
  "language_info": {
   "codemirror_mode": {
    "name": "ipython",
    "version": 3
   },
   "file_extension": ".py",
   "mimetype": "text/x-python",
   "name": "python",
   "nbconvert_exporter": "python",
   "pygments_lexer": "ipython3",
   "version": "3.9.5"
  },
  "orig_nbformat": 4
 },
 "nbformat": 4,
 "nbformat_minor": 2
}
