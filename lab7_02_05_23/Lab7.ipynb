{
 "cells": [
  {
   "attachments": {},
   "cell_type": "markdown",
   "metadata": {},
   "source": [
    "```Date 02/05/23```\n",
    "<p>Name:- Krishna Mundada<p>\n",
    "<p>Roll No:- 45 </p>\n",
    "<p>Batch:- E3</p>\n",
    "<p>Practical 7</p>\n",
    "<p>Topic:- MNIST Digit Recognition  </p>\n",
    "<hr>\n",
    "<hr>"
   ]
  },
  {
   "attachments": {},
   "cell_type": "markdown",
   "metadata": {},
   "source": [
    "<p>Write a prog to implement auto encoder, Alex net, lnet 5, vgg16 on mnist dataset. Compare the result in terms of training and testing time and accuracy.</p>"
   ]
  },
  {
   "cell_type": "code",
   "execution_count": null,
   "metadata": {},
   "outputs": [],
   "source": []
  }
 ],
 "metadata": {
  "language_info": {
   "name": "python"
  },
  "orig_nbformat": 4
 },
 "nbformat": 4,
 "nbformat_minor": 2
}
